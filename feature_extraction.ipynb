{
  "nbformat": 4,
  "nbformat_minor": 0,
  "metadata": {
    "colab": {
      "provenance": []
    },
    "kernelspec": {
      "name": "python3",
      "display_name": "Python 3"
    },
    "language_info": {
      "name": "python"
    }
  },
  "cells": [
    {
      "cell_type": "code",
      "execution_count": null,
      "metadata": {
        "id": "LKl8yN6fhTJc"
      },
      "outputs": [],
      "source": [
        "#https://github.com/BrunoKrinski/PytorchClassification"
      ]
    },
    {
      "cell_type": "code",
      "source": [
        "!wget https://www.inf.ufpr.br/bakrinski/butterflies_features.zip\n",
        "!unzip butterflies_features.zip"
      ],
      "metadata": {
        "id": "jcbvCSEWnBYI"
      },
      "execution_count": null,
      "outputs": []
    },
    {
      "cell_type": "code",
      "source": [
        "!wget https://www.inf.ufpr.br/bakrinski/sports_features.zip\n",
        "!unzip sports_features.zip"
      ],
      "metadata": {
        "id": "pkYSqgBwgEUq"
      },
      "execution_count": null,
      "outputs": []
    },
    {
      "cell_type": "code",
      "source": [
        "import os\n",
        "import json\n",
        "import time\n",
        "import glob\n",
        "import argparse\n",
        "import numpy as np\n",
        "import torch.nn as nn\n",
        "import torch, torchvision\n",
        "import torch.optim as optim\n",
        "import matplotlib.pyplot as plt\n",
        "\n",
        "from PIL import Image\n",
        "from tqdm import tqdm\n",
        "from torchsummary import summary\n",
        "from torch.utils.data import DataLoader\n",
        "from torchvision import datasets, models, transforms\n",
        "\n",
        "from torchvision.models import vgg16, VGG16_Weights\n",
        "from torchvision.models import resnet152, ResNet152_Weights\n",
        "from torchvision.models import resnet50, ResNet50_Weights"
      ],
      "metadata": {
        "id": "Y0I8E95RnEmJ"
      },
      "execution_count": null,
      "outputs": []
    },
    {
      "cell_type": "code",
      "source": [
        "#model = resnet50(weights=ResNet50_Weights.IMAGENET1K_V1)\n",
        "#print(model)\n",
        "#summary(model, input_size=(3, 224, 224), batch_size=1, device='cpu')"
      ],
      "metadata": {
        "id": "QLLK7dKBqSgV"
      },
      "execution_count": null,
      "outputs": []
    },
    {
      "cell_type": "code",
      "source": [
        "#model = resnet152(weights=ResNet152_Weights.IMAGENET1K_V1)\n",
        "#print(model)\n",
        "#summary(model, input_size=(3, 224, 224), batch_size=1, device='cpu')"
      ],
      "metadata": {
        "id": "pTqQB_3ZrAjY"
      },
      "execution_count": null,
      "outputs": []
    },
    {
      "cell_type": "code",
      "source": [
        "model = vgg16(weights=VGG16_Weights.IMAGENET1K_V1)\n",
        "print(model)\n",
        "summary(model, input_size=(3, 224, 224), batch_size=1, device='cpu')"
      ],
      "metadata": {
        "id": "TewePG77pPcG"
      },
      "execution_count": null,
      "outputs": []
    },
    {
      "cell_type": "code",
      "source": [
        "size = 224\n",
        "\n",
        "image_transforms = { \n",
        "  'test': transforms.Compose([\n",
        "      transforms.Resize(size=size),\n",
        "      transforms.CenterCrop(size=size),\n",
        "      transforms.ToTensor(),\n",
        "      transforms.Normalize([0.485, 0.456, 0.406],\n",
        "                           [0.229, 0.224, 0.225])\n",
        "  ])\n",
        "}\n",
        "       \n",
        "transform = image_transforms['test']\n",
        "\n",
        "test_image_name = 'butterflies/train/ADONIS/001.jpg'\n",
        "test_image = Image.open(test_image_name)\n",
        "        \n",
        "test_image_tensor = transform(test_image)\n",
        "#print(model)\n",
        "    \n",
        "#device = torch.device('cpu')\n",
        "#model = torch.load(model_path, map_location=device)\n",
        "#print(model)\n",
        "#summary(model, input_size=(3, 224, 224), batch_size=1, device='cpu')\n",
        "    \n",
        "layer = model._modules.get('avgpool')\n",
        "\n",
        "my_embedding = torch.zeros(512 * 49)\n",
        "#my_embedding = torch.zeros(2048)\n",
        "    \n",
        "def copy_data(m, i, o):\n",
        "    my_embedding.copy_(o.flatten()) \n",
        "    \n",
        "h = layer.register_forward_hook(copy_data)\n",
        "    \n",
        "with torch.no_grad():\n",
        "    model(test_image_tensor.unsqueeze(0))\n",
        "h.remove()\n",
        "    \n",
        "features = my_embedding.tolist()\n",
        "\n",
        "len(features)"
      ],
      "metadata": {
        "id": "ocJzhlKXnTBW"
      },
      "execution_count": null,
      "outputs": []
    },
    {
      "cell_type": "code",
      "source": [
        "import os\n",
        "import glob\n",
        "import json\n",
        "import random\n",
        "import numpy as np\n",
        "from tqdm import tqdm\n",
        "from sklearn.neural_network import MLPClassifier\n",
        "from sklearn.datasets import make_classification\n",
        "from sklearn.model_selection import train_test_split"
      ],
      "metadata": {
        "id": "0Xc1i5qergm8"
      },
      "execution_count": null,
      "outputs": []
    },
    {
      "cell_type": "code",
      "source": [
        "def load_files(images_path, indexes):\n",
        "  files = glob.glob(f'{images_path}/*/*.json')\n",
        "  random.shuffle(files)\n",
        "  labels = []\n",
        "  features = []\n",
        "  print('Loading files...')\n",
        "  for f in tqdm(files):\n",
        "    label = f.split('/')[-2]\n",
        "    labels.append(label)\n",
        "    with open(f, 'r') as features_file:\n",
        "        features.append(np.array(json.load(features_file)))\n",
        "        \n",
        "  labels = np.array(labels)\n",
        "  features = np.array(features)\n",
        "  return features, labels"
      ],
      "metadata": {
        "id": "dHTqDwgVrW1S"
      },
      "execution_count": null,
      "outputs": []
    },
    {
      "cell_type": "code",
      "source": [
        "dataset_path = 'butterflies'\n",
        "train_directory = os.path.join(dataset_path, 'train')\n",
        "valid_directory = os.path.join(dataset_path, 'valid')\n",
        "test_directory = os.path.join(dataset_path, 'test')"
      ],
      "metadata": {
        "id": "Kt7yaEc3rnuJ"
      },
      "execution_count": null,
      "outputs": []
    },
    {
      "cell_type": "code",
      "source": [
        "classes = os.listdir(valid_directory)\n",
        "indexes = {v: k for k, v in enumerate(classes)}\n",
        "\n",
        "x_train, y_train = load_files(train_directory, indexes)\n",
        "x_valid, y_valid = load_files(valid_directory, indexes)"
      ],
      "metadata": {
        "id": "z28bFGuarsV1"
      },
      "execution_count": null,
      "outputs": []
    },
    {
      "cell_type": "code",
      "source": [
        "print('Training classifier...')\n",
        "clf = MLPClassifier(random_state=1, \n",
        "                    max_iter=300, \n",
        "                    verbose=True, \n",
        "                    shuffle=True, \n",
        "                    learning_rate_init=0.00001).fit(x_train, y_train)\n",
        "print(clf.predict(x_valid))\n",
        "print(clf.score(x_valid, y_valid))"
      ],
      "metadata": {
        "id": "cGsWRsUCr4h5"
      },
      "execution_count": null,
      "outputs": []
    },
    {
      "cell_type": "code",
      "source": [
        "import numpy as np\n",
        "from sklearn.svm import SVC\n",
        "from sklearn.pipeline import make_pipeline\n",
        "from sklearn.preprocessing import StandardScaler\n",
        "\n",
        "clf = make_pipeline(StandardScaler(), SVC(gamma='auto', \n",
        "                    random_state=1, \n",
        "                    max_iter=300, \n",
        "                    verbose=True), verbose=True)\n",
        "clf.fit(x_train, y_train)\n",
        "print(clf.predict(x_valid))\n",
        "print(clf.score(x_valid, y_valid))"
      ],
      "metadata": {
        "id": "cAoeF6GaxgRT"
      },
      "execution_count": null,
      "outputs": []
    },
    {
      "cell_type": "code",
      "source": [
        "# Krinski#2891 Discord"
      ],
      "metadata": {
        "id": "qFDeuPwRpT66"
      },
      "execution_count": null,
      "outputs": []
    }
  ]
}